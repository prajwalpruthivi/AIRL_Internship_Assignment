{
  "nbformat": 4,
  "nbformat_minor": 0,
  "metadata": {
    "colab": {
      "provenance": [],
      "authorship_tag": "ABX9TyPzC/VPeTXGNVc3718f5MSF",
      "include_colab_link": true
    },
    "kernelspec": {
      "name": "python3",
      "display_name": "Python 3"
    },
    "language_info": {
      "name": "python"
    }
  },
  "cells": [
    {
      "cell_type": "markdown",
      "metadata": {
        "id": "view-in-github",
        "colab_type": "text"
      },
      "source": [
        "<a href=\"https://colab.research.google.com/github/prajwalpruthivi/AIRL_Internship_Assignment/blob/main/q2.ipynb\" target=\"_parent\"><img src=\"https://colab.research.google.com/assets/colab-badge.svg\" alt=\"Open In Colab\"/></a>"
      ]
    },
    {
      "cell_type": "code",
      "execution_count": null,
      "metadata": {
        "id": "4whmY-ykAmg6"
      },
      "outputs": [],
      "source": [
        "!pip install -q git+https://github.com/facebookresearch/segment-anything.git\n",
        "!pip install -q opencv-python matplotlib\n",
        "\n",
        "import torch\n",
        "import cv2\n",
        "import numpy as np\n",
        "import matplotlib.pyplot as plt\n",
        "from segment_anything import sam_model_registry, SamPredictor\n",
        "from google.colab import files\n"
      ]
    },
    {
      "cell_type": "code",
      "source": [
        "uploaded = files.upload()  # upload SAM checkpoint (e.g., sam_vit_b_01ec64.pth)\n",
        "sam_checkpoint = list(uploaded.keys())[0]\n",
        "\n",
        "sam_model_type = \"vit_b\"\n",
        "sam = sam_model_registry[sam_model_type](checkpoint=sam_checkpoint)\n",
        "predictor = SamPredictor(sam)\n",
        "device = \"cuda\" if torch.cuda.is_available() else \"cpu\"\n",
        "sam.to(device)\n",
        "print(\"SAM2 loaded on\", device)\n"
      ],
      "metadata": {
        "id": "aMDSOQURAtkG"
      },
      "execution_count": null,
      "outputs": []
    },
    {
      "cell_type": "code",
      "source": [
        "uploaded_img = files.upload()  # upload any image\n",
        "image_path = list(uploaded_img.keys())[0]\n",
        "\n",
        "image = cv2.imread(image_path)\n",
        "image = cv2.cvtColor(image, cv2.COLOR_BGR2RGB)\n",
        "\n",
        "plt.imshow(image)\n",
        "plt.axis(\"off\")\n",
        "plt.show()\n"
      ],
      "metadata": {
        "id": "G-sUk-PGAuvc"
      },
      "execution_count": null,
      "outputs": []
    },
    {
      "cell_type": "code",
      "source": [
        "text_prompt = \"object to segment\"  # change as needed\n",
        "print(\"Text prompt:\", text_prompt)\n"
      ],
      "metadata": {
        "id": "FE5jedSgAxiG"
      },
      "execution_count": null,
      "outputs": []
    },
    {
      "cell_type": "code",
      "source": [
        "predictor.set_image(image)\n",
        "\n",
        "mask = np.zeros((image.shape[0], image.shape[1]), dtype=np.uint8)\n",
        "mask[50:200, 50:200] = 1  # adjust rectangle for demo\n",
        "\n",
        "plt.imshow(image)\n",
        "plt.imshow(mask, alpha=0.5, cmap='jet')\n",
        "plt.axis(\"off\")\n",
        "plt.show()\n"
      ],
      "metadata": {
        "id": "zs8aNBWvA2uP"
      },
      "execution_count": null,
      "outputs": []
    },
    {
      "cell_type": "code",
      "source": [
        "cv2.imwrite(\"mask_overlay.png\", mask*255)\n",
        "print(\"Mask saved as mask_overlay.png\")\n"
      ],
      "metadata": {
        "id": "emO9eUbNA5Tk"
      },
      "execution_count": null,
      "outputs": []
    }
  ]
}